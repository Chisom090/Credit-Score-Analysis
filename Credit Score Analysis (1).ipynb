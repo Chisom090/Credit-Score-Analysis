{
 "cells": [
  {
   "cell_type": "markdown",
   "id": "64cb9c43-ea77-4874-a75a-67ddc1ef494f",
   "metadata": {},
   "source": [
    "# Applying Data Analytic Skills\n",
    "## Credit Card Predictive Analysis| Explorative Descriptive Analysis (EDA) | Vintage Analysis\n",
    "## Credit Risk Classification Using-RandomForestClassifier"
   ]
  },
  {
   "cell_type": "markdown",
   "id": "12f63221-a6e7-4ca2-8267-14f35ecd2aa8",
   "metadata": {},
   "source": [
    "# Author\n",
    "# Chisom Micheal Eriobu | chisomeriobu428@gmail.com"
   ]
  },
  {
   "cell_type": "markdown",
   "id": "806867d7-640b-45ad-bd3b-6f1aeafd4ce6",
   "metadata": {},
   "source": [
    "# Problem Statement\n",
    "## Credit score cards are a common risk control method in the financial industry. It uses personal information and data submitted by credit card applicants to predict the probability of future defaults and credit card borrowings. The bank is able to decide whether to issue a credit card to the applicant. Credit scores can objectively quantify the magnitude of risk.\n",
    "### Application of Random Forest supervised classification machine learning model to help banks determine who should get a credit card or not"
   ]
  },
  {
   "cell_type": "markdown",
   "id": "491e1bb4-8c55-4904-9fae-fb0c12ebb9f1",
   "metadata": {},
   "source": [
    "### Importing Libaries"
   ]
  },
  {
   "cell_type": "code",
   "execution_count": null,
   "id": "47d5d8b1-a3e8-4886-8067-2eaf1bea3b35",
   "metadata": {},
   "outputs": [],
   "source": [
    "import pandas as pd\n",
    "import numpy as np\n",
    "import matplotlib.pyplot as plt  \n",
    "import seaborn as sns"
   ]
  },
  {
   "cell_type": "code",
   "execution_count": null,
   "id": "fa9c29cf-4033-4e3a-aae1-ba2d41fea6db",
   "metadata": {},
   "outputs": [],
   "source": [
    "# read dataset\n",
    "application_record=pd.read_csv(\"application_record.csv\")"
   ]
  },
  {
   "cell_type": "markdown",
   "id": "a681257b-44a8-48fe-a47d-2d10782137d3",
   "metadata": {},
   "source": [
    "## Explanation of data set application_record"
   ]
  },
  {
   "cell_type": "markdown",
   "id": "3ec0924c-2c70-403b-847b-5708fa5f53fa",
   "metadata": {},
   "source": [
    "\n",
    "\n",
    "## | Feature Name          | Explanation                          | Remarks                                                                                         |\n",
    "# |-----------------------|--------------------------------------|-------------------------------------------------------------------------------------------------|\n",
    "# | ID                    | Client number                        |                                                                                                 |\n",
    "# | CODE_GENDER           | Gender                               |                                                                                                 |\n",
    "# | FLAG_OWN_CAR          | Is there a car                       |                                                                                                 |\n",
    "# | FLAG_OWN_REALTY       | Is there a property                  |                                                                                                 |\n",
    "# | CNT_CHILDREN          | Number of children                   |                                                                                                 |\n",
    "# | AMT_INCOME_TOTAL      | Annual income                        |                                                                                                 |\n",
    "# | NAME_INCOME_TYPE      | Income category                      |                                                                                                 |\n",
    "# | NAME_EDUCATION_TYPE   | Education level                      |                                                                                                 |\n",
    "# | NAME_FAMILY_STATUS    | Marital status                       |                                                                                                 |\n",
    "# | NAME_HOUSING_TYPE     | Way of living                        |                                                                                                 |\n",
    "# | DAYS_BIRTH            | Birthday                             | Count backwards from current day (0), -1 means yesterday                                         |\n",
    "# | DAYS_EMPLOYED         | Start date of employment             | Count backwards from current day (0). If positive, it means the person is currently unemployed. |\n",
    "# | FLAG_MOBIL            | Is there a mobile phone              |                                                                                                 |\n",
    "# | FLAG_WORK_PHONE       | Is there a work phone                |                                                                                                 |\n",
    "# | FLAG_PHONE            | Is there a phone                     |                                                                                                 |\n",
    "# | FLAG_EMAIL            | Is there an email                    |                                                                                                 |\n",
    "# | OCCUPATION_TYPE       | Occupation                           |                                                                                                 |\n",
    "# | CNT_FAM_MEMBERS       | Family size                          |                                                                                                 |\n",
    "\n"
   ]
  },
  {
   "cell_type": "code",
   "execution_count": null,
   "id": "870249d7-7740-4125-8a19-69c6052e903f",
   "metadata": {},
   "outputs": [],
   "source": [
    "# preview applicatio_record\n",
    "application_record"
   ]
  },
  {
   "cell_type": "code",
   "execution_count": null,
   "id": "f105d041-e2b9-4c7b-a9dc-70c7c7255e57",
   "metadata": {},
   "outputs": [],
   "source": [
    "# Satistic descrption\n",
    "print(\"                                              Descriptive Satistic of application record\")\n",
    "describe_application=application_record.describe()\n",
    "describe_application=pd.DataFrame(describe_application)\n"
   ]
  },
  {
   "cell_type": "code",
   "execution_count": null,
   "id": "d6f065e2-be69-4122-94eb-de65ab805bca",
   "metadata": {},
   "outputs": [],
   "source": [
    "# Change column name to other understandable names\n",
    "new_column_names = {\n",
    "    \"ID\": \"ClientID\",\n",
    "    \"CNT_CHILDREN\": \"Number Of Children\",\n",
    "    \"AMT_INCOME_TOTAL\": \"Annual Income\",\n",
    "    \"DAYS_BIRTH\": \"Days Since Birth\",\n",
    "    \"DAYS_EMPLOYED\": \"Days Since Employment\",\n",
    "    \"FLAG_MOBIL\": \"Has Mobile Phone\",\n",
    "    \"FLAG_WORK_PHONE\": \"Has Work Phone\",\n",
    "    \"FLAG_PHONE\": \"Has Phone\",\n",
    "    \"FLAG_EMAIL\": \"Has Email\",\n",
    "    \"CNT_FAM_MEMBERS\": \"Family Size\"\n",
    "    \n",
    "}\n",
    "# Rename columns\n",
    "\n",
    "describe_application.rename(columns=new_column_names, inplace=True)\n",
    "#drop client number\n",
    "describe_application=describe_application.drop(\"ClientID\", axis=1)\n",
    "# visualise descriptive analysis\n",
    "plt.figure(figsize=(12, 16))\n",
    "sns.heatmap(describe_application, cmap=\"tab20b\", annot=True)\n",
    "plt.title(\"Heat Map of The Descriptive Analysis of Application Record\", fontweight=\"bold\", fontsize=18)\n",
    "plt.xlabel(\"Data Set Attributes\")\n",
    "plt.ylabel(\"Satistic Description\")\n",
    "plt.legend(describe_application)\n",
    "plt.tight_layout()"
   ]
  },
  {
   "cell_type": "code",
   "execution_count": null,
   "id": "7f5706ff-6ce3-4862-a4c1-e6c2b97e2993",
   "metadata": {},
   "outputs": [],
   "source": [
    "# presenting data types of dataset\n",
    "print(application_record.dtypes)"
   ]
  },
  {
   "cell_type": "code",
   "execution_count": null,
   "id": "196f4df9-71de-43e6-b0de-ccd23fcf3c3c",
   "metadata": {},
   "outputs": [],
   "source": [
    "#preseting the amount of rows and columns of dataset\n",
    "print(application_record.shape)"
   ]
  },
  {
   "cell_type": "markdown",
   "id": "94d9c0b8-c0b0-447c-9258-1bc08f3afe78",
   "metadata": {},
   "source": [
    "# Observation\n",
    "## The dataset of application record contains 438557 rows and 18 columns\n",
    "## This dataset contains eight of columns of object datatype\n",
    "## And remaining 10 columns has of numric datatype"
   ]
  },
  {
   "cell_type": "code",
   "execution_count": null,
   "id": "e8575ba1-37a5-4bb0-b40b-5c1a6534d620",
   "metadata": {},
   "outputs": [],
   "source": [
    "# check for null \n",
    "application_record.isnull().sum()"
   ]
  },
  {
   "cell_type": "code",
   "execution_count": null,
   "id": "9fa78af4-3793-4b24-a660-e01a314a519b",
   "metadata": {},
   "outputs": [],
   "source": [
    "percent=application_record[\"OCCUPATION_TYPE\"].isnull().sum()/application_record[\"OCCUPATION_TYPE\"].shape[0] * 100\n",
    "print(f'{percent}%' )"
   ]
  },
  {
   "cell_type": "markdown",
   "id": "9af13b9a-178e-4008-8e4a-b6a7550ddae7",
   "metadata": {},
   "source": [
    "### The null values of column occuption_type in the data set consistit an approximate 30% droping them will make the data more clean"
   ]
  },
  {
   "cell_type": "code",
   "execution_count": null,
   "id": "9112e5b3-cd80-4615-a084-e03fff8d1c0d",
   "metadata": {},
   "outputs": [],
   "source": [
    "application_record=application_record.drop(\"OCCUPATION_TYPE\", axis=1)"
   ]
  },
  {
   "cell_type": "code",
   "execution_count": null,
   "id": "6f6526b4-9e7f-475e-959c-c0777c76f5d9",
   "metadata": {},
   "outputs": [],
   "source": [
    "application_record.columns #check if column is droped"
   ]
  },
  {
   "cell_type": "code",
   "execution_count": null,
   "id": "266b8818-6fda-4471-b61d-f9ed225226ad",
   "metadata": {},
   "outputs": [],
   "source": [
    "# check for duplicate data\n",
    "application_record.duplicated().sum()"
   ]
  },
  {
   "cell_type": "markdown",
   "id": "1732c372-a44f-4f03-a5ee-8fa6e832b75a",
   "metadata": {},
   "source": [
    "### No duplicate data"
   ]
  },
  {
   "cell_type": "markdown",
   "id": "2d7b77d6-2819-487f-835b-4dd513bccbee",
   "metadata": {},
   "source": [
    "## Pie chart distribution of gender income"
   ]
  },
  {
   "cell_type": "code",
   "execution_count": null,
   "id": "55adf11d-f23b-4faa-abd8-21276c56a3b4",
   "metadata": {},
   "outputs": [],
   "source": [
    "gender_income_=application_record.groupby(\"CODE_GENDER\")[\"AMT_INCOME_TOTAL\"].sum().reset_index()\n",
    "gender_income_"
   ]
  },
  {
   "cell_type": "code",
   "execution_count": null,
   "id": "aded22e6-bbca-44a2-881b-49e6fb5bc0c0",
   "metadata": {},
   "outputs": [],
   "source": [
    "male_amount=gender_income_[\"AMT_INCOME_TOTAL\"].min()\n",
    "female_amount=gender_income_[\"AMT_INCOME_TOTAL\"].max()\n",
    "print(f\"The total amount of income for male is ${male_amount:.1f}\")\n",
    "print(f\"The total amount of income for female is ${female_amount:.1f}\")\n"
   ]
  },
  {
   "cell_type": "code",
   "execution_count": null,
   "id": "7c1f3ee6-ab73-41d5-ac52-325bf9ab55cb",
   "metadata": {},
   "outputs": [],
   "source": [
    "plt.figure(figsize=(12, 15))\n",
    "plt.pie(gender_income_[\"AMT_INCOME_TOTAL\"], labels=[\"Female\", \"Male\"], colors=[\"blue\", \"red\"], shadow=True )\n",
    "plt.title(\"Gender Distribution of Data Set\", fontsize=17, fontweight=\"bold\")\n",
    "plt.legend([f\"${female_amount}\", f\"${male_amount}\"] )\n",
    "plt.axis(\"equal\")\n",
    "plt.tight_layout()\n"
   ]
  },
  {
   "cell_type": "code",
   "execution_count": null,
   "id": "b50f6408-d5a0-436a-8608-a37aba25cf38",
   "metadata": {},
   "outputs": [],
   "source": [
    "# total number of unique gender\n",
    "print(application_record['CODE_GENDER'].value_counts())"
   ]
  },
  {
   "cell_type": "raw",
   "id": "fbf4364d-e41a-46d0-a058-9f9c8e42b2be",
   "metadata": {},
   "source": [
    " Total number of females is 294440 contributing to a total amount of $51386564165.7\n",
    " Total number of males is 144117 contributing to a total amount of $30853524133.8"
   ]
  },
  {
   "cell_type": "markdown",
   "id": "1e7676fb-34a3-4a78-bf56-9afae5c5779b",
   "metadata": {},
   "source": [
    "# Bie Chart representation of income type to total amount"
   ]
  },
  {
   "cell_type": "code",
   "execution_count": null,
   "id": "6b8b1b17-86e9-4bd2-993b-a7f34cb7f7a5",
   "metadata": {},
   "outputs": [],
   "source": [
    "income_amount=application_record.groupby(\"NAME_INCOME_TYPE\")[\"AMT_INCOME_TOTAL\"].sum().reset_index().sort_values(by=\"AMT_INCOME_TOTAL\", ascending=True)\n",
    "print(f\"Income distribution among diffrent income class from least to highest\")\n",
    "income_amount.rename(columns={\"AMT_INCOME_TOTAL\" : \"TOTAL INCOME($)\"})\n",
    "income_amount"
   ]
  },
  {
   "cell_type": "code",
   "execution_count": null,
   "id": "00c8b9af-570d-4c13-9795-7f35d6898c72",
   "metadata": {},
   "outputs": [],
   "source": [
    "from matplotlib.ticker import StrMethodFormatter\n",
    "plt.figure(figsize=(12,8))\n",
    "colors=[\"blue\", \"red\", \"green\", \"purple\", \"yellow\"]\n",
    "plt.bar(income_amount[\"NAME_INCOME_TYPE\"], income_amount[\"AMT_INCOME_TOTAL\"], label=income_amount[\"AMT_INCOME_TOTAL\"], color=colors)\n",
    "plt.yscale(\"log\")\n",
    "plt.gca().yaxis.set_major_formatter(StrMethodFormatter('${x:,.0f}'))\n",
    "plt.grid()\n",
    "plt.xlabel(\"Total Income\", fontsize=16)\n",
    "plt.ylabel(\"Income Type\", fontsize=16)\n",
    "plt.title(\"Income Distribution Of Income Type\", fontsize=23, fontweight=\"bold\")\n",
    "# add dollar sign to amount\n",
    "List=list(income_amount[\"AMT_INCOME_TOTAL\"])\n",
    "\n",
    "plt.legend([\"$\"+str(i) for i in List], loc='upper left')\n",
    "plt.tight_layout()"
   ]
  },
  {
   "cell_type": "code",
   "execution_count": null,
   "id": "9a5abec7-abee-4dab-bc7e-028257edecb1",
   "metadata": {},
   "outputs": [],
   "source": [
    "application_record.columns\n"
   ]
  },
  {
   "cell_type": "markdown",
   "id": "1513751b-20a8-4307-8e64-c651eed252a4",
   "metadata": {},
   "source": [
    "## Renaming the columns to understandable names"
   ]
  },
  {
   "cell_type": "code",
   "execution_count": null,
   "id": "454bae36-4987-42ae-958c-79c1c2a7e326",
   "metadata": {},
   "outputs": [],
   "source": [
    "# Reference table for column renaming\n",
    "rename_dict = {\n",
    "    \"ID\": \"Client Number\",\n",
    "    \"CODE_GENDER\": \"Gender\",\n",
    "    \"FLAG_OWN_CAR\": \"Car Ownership\",\n",
    "    \"FLAG_OWN_REALTY\": \"Property Ownership\",\n",
    "    \"CNT_CHILDREN\": \"Number of Children\",\n",
    "    \"AMT_INCOME_TOTAL\": \"Annual Income\",\n",
    "    \"NAME_INCOME_TYPE\": \"Income Category\",\n",
    "    \"NAME_EDUCATION_TYPE\": \"Education Level\",\n",
    "    \"NAME_FAMILY_STATUS\": \"Marital Status\",\n",
    "    \"NAME_HOUSING_TYPE\": \"Housing Type\",\n",
    "    \"DAYS_BIRTH\": \"Birthday\",\n",
    "    \"DAYS_EMPLOYED\": \"Employment Start Date\",\n",
    "    \"FLAG_MOBIL\": \"Mobile Phone\",\n",
    "    \"FLAG_WORK_PHONE\": \"Work Phone\",\n",
    "    \"FLAG_PHONE\": \"Phone\",\n",
    "    \"FLAG_EMAIL\": \"Email\",\n",
    "    \"OCCUPATION_TYPE\": \"Occupation\",\n",
    "    \"CNT_FAM_MEMBERS\": \"Family Size\"\n",
    "}\n",
    "application_record.rename(columns=rename_dict, inplace=True)\n",
    "application_record"
   ]
  },
  {
   "cell_type": "code",
   "execution_count": null,
   "id": "c5adaa89-d514-4ab3-a65f-f7b788c65a73",
   "metadata": {},
   "outputs": [],
   "source": [
    "# read credit record data set\n",
    "credit_record=pd.read_csv(\"credit_record.csv\")"
   ]
  },
  {
   "cell_type": "code",
   "execution_count": null,
   "id": "f5c81c84-a9bf-4ea3-907e-7cb3763c02d7",
   "metadata": {},
   "outputs": [],
   "source": [
    "credit_record"
   ]
  },
  {
   "cell_type": "raw",
   "id": "ebdda64a-f71e-402f-97da-c976be1d4c3c",
   "metadata": {},
   "source": [
    "Credit Record Dataset column description\n",
    "\n",
    "| Feature Name   | Explanation         | Remarks                                                                                                                                                       |\n",
    "|----------------|---------------------|---------------------------------------------------------------------------------------------------------------------------------------------------------------|\n",
    "| ID             | Client number       |                                                                                                                                                               |\n",
    "| MONTHS_BALANCE | Record month        | The month of the extracted data is the starting point, backwards, where 0 is the current month, -1 is the previous month, and so on.                         |\n",
    "| STATUS         | Status              | - 0: 1-29 days past due - 1: 30-59 days past due - 2: 60-89 days overdue - 3: 90-119 days overdue - 4: 120-149 days overdue - 5: Overdue or bad debts, write-offs for more than 150 days - C: Paid off that month - X: No loan for the month |"
   ]
  },
  {
   "cell_type": "markdown",
   "id": "79b2fe2b-4d5e-469c-9a2a-922349c39bfc",
   "metadata": {},
   "source": [
    "## Observations\n",
    "# The data set Credit Records has 1048575 rows and three columns\n"
   ]
  },
  {
   "cell_type": "code",
   "execution_count": null,
   "id": "344103fd-33a0-4c4e-805a-1805cbfb0185",
   "metadata": {},
   "outputs": [],
   "source": [
    "#read data type\n",
    "print(\"Data Types of Credit Record Columns\")\n",
    "print(credit_record.dtypes)"
   ]
  },
  {
   "cell_type": "code",
   "execution_count": null,
   "id": "be2f4e17-6729-4cfa-b54e-775daa7acdaf",
   "metadata": {},
   "outputs": [],
   "source": [
    "#check for null values\n",
    "credit_record.isnull().sum()"
   ]
  },
  {
   "cell_type": "code",
   "execution_count": null,
   "id": "ab204a12-bdde-4e04-9bea-da77e63d443e",
   "metadata": {},
   "outputs": [],
   "source": [
    "# check for duplicates\n",
    "credit_record.duplicated().sum()"
   ]
  },
  {
   "cell_type": "markdown",
   "id": "b5e4580e-5847-405b-962f-c5b3ebc92e3c",
   "metadata": {},
   "source": [
    "### NO DUPLICATES AND NULL VALUES"
   ]
  },
  {
   "cell_type": "code",
   "execution_count": null,
   "id": "a150ca87-2bcc-426d-a51f-a288d010cf35",
   "metadata": {},
   "outputs": [],
   "source": [
    "# Prepare data for machine learning algorithm\n",
    "credit_record.columns\n"
   ]
  },
  {
   "cell_type": "code",
   "execution_count": null,
   "id": "b2a00375-9caa-432e-9670-89ba68366c5d",
   "metadata": {},
   "outputs": [],
   "source": [
    "rename_dict={\"ID\": \"Client Number\", \n",
    "             \"MONTHS_BALANCE\": \"Record Month\",\n",
    "             \"STATUS\": \"Status\"}\n",
    "credit_record.rename(columns=rename_dict, inplace=True)"
   ]
  },
  {
   "cell_type": "code",
   "execution_count": null,
   "id": "a17a1b74-6cbb-43e1-a5df-3fafd181e14d",
   "metadata": {},
   "outputs": [],
   "source": [
    "credit_record"
   ]
  },
  {
   "cell_type": "code",
   "execution_count": null,
   "id": "547299b2-af87-4969-81d4-c5b02b3f05c1",
   "metadata": {},
   "outputs": [],
   "source": [
    "print(\"Descriptive Statistics of credit_record.csv\")\n",
    "credit_record.describe()"
   ]
  },
  {
   "cell_type": "code",
   "execution_count": null,
   "id": "b1c1e9e0-a937-4d8e-96c2-0dfb5aeb0ec8",
   "metadata": {},
   "outputs": [],
   "source": [
    "#merge dataset\n",
    "merged_data=pd.merge(application_record, credit_record, on=\"Client Number\", how=\"inner\")"
   ]
  },
  {
   "cell_type": "code",
   "execution_count": null,
   "id": "b4282b1f-2221-495f-94a6-6a8c36f07a70",
   "metadata": {},
   "outputs": [],
   "source": [
    "# check for duplicates\n",
    "merged_data.duplicated().sum()"
   ]
  },
  {
   "cell_type": "code",
   "execution_count": null,
   "id": "705ba02c-d6d8-4014-8017-27972d6cb2c0",
   "metadata": {},
   "outputs": [],
   "source": [
    "merged_data[\"Client Number\"].duplicated().sum()"
   ]
  },
  {
   "cell_type": "code",
   "execution_count": null,
   "id": "b87aeae8-d641-46f8-8655-17d928ddd06a",
   "metadata": {},
   "outputs": [],
   "source": [
    "merged_data=merged_data.drop(\"Client Number\", axis=1) # client number unneccesary for the machine learning model\n"
   ]
  },
  {
   "cell_type": "code",
   "execution_count": null,
   "id": "c439aa8e-8281-4cdd-ba9c-a0ff0a34e335",
   "metadata": {},
   "outputs": [],
   "source": [
    "merged_data #preview data"
   ]
  },
  {
   "cell_type": "code",
   "execution_count": null,
   "id": "c692a824-2329-497e-b950-d0e8872d82a5",
   "metadata": {},
   "outputs": [],
   "source": [
    "print(merged_data.info()) #information on data set"
   ]
  },
  {
   "cell_type": "code",
   "execution_count": null,
   "id": "f73f0f4e-5c69-44b9-9aaa-128678e64cee",
   "metadata": {},
   "outputs": [],
   "source": [
    "print(\"                                                      Descriptive Statistic of The Data Set\")\n",
    "describe_merged=merged_data.describe()\n",
    "describe_merged"
   ]
  },
  {
   "cell_type": "code",
   "execution_count": null,
   "id": "8e7f0496-ec86-400a-a5b3-62432b1a08b5",
   "metadata": {},
   "outputs": [],
   "source": [
    "# use heat map to visually describe the data set\n",
    "plt.figure(figsize=(12, 16))\n",
    "sns.heatmap(describe_merged, cmap=\"tab20b\", annot=True, robust=True,  )\n",
    "plt.title(\"Heat Map of The Descriptive Analysis of Application Record\", fontweight=\"bold\", fontsize=18)\n",
    "plt.xlabel(\"Data Set Attributes\")\n",
    "plt.ylabel(\"Satistic Description\")\n",
    "plt.legend(describe_merged)\n",
    "plt.tight_layout()"
   ]
  },
  {
   "cell_type": "code",
   "execution_count": null,
   "id": "771cc916-6ee1-4339-8ead-dc9b95f1d8ed",
   "metadata": {},
   "outputs": [],
   "source": [
    "status_mapping = {\n",
    "    '0': '1-29 days past due',\n",
    "    '1': '30-59 days past due',\n",
    "    '2': '60-89 days overdue',\n",
    "    '3': '90-119 days overdue',\n",
    "    '4': '120-149 days overdue',\n",
    "    '5': 'Overdue or bad debts, write-offs for more than 150 days',\n",
    "    'C': 'Paid off that month',\n",
    "    'X': 'No loan for the month'\n",
    "}\n",
    "\n",
    "merged_data['Status Description'] = merged_data['Status'].map(status_mapping)\n",
    "\n",
    "\n",
    "# preview the data\n",
    "merged_data\n"
   ]
  },
  {
   "cell_type": "markdown",
   "id": "5e4a11e6-9920-4d96-a850-b9c23ed19b77",
   "metadata": {},
   "source": [
    "# Apply Vintage Analysis \n"
   ]
  },
  {
   "cell_type": "code",
   "execution_count": null,
   "id": "a38e0503-76ec-4f86-b0f3-292d0badd024",
   "metadata": {},
   "outputs": [],
   "source": [
    "\n",
    "\n",
    "# Step 1: Prepare Data\n",
    "# Create a new column for the issuance month based on the Record Month\n",
    "merged_data['Issuance Month'] = merged_data['Record Month'].apply(lambda x: 'Month ' + str(abs(x)))\n",
    "\n",
    "# Convert 'Issuance Month' to a categorical type with the correct order\n",
    "merged_data['Issuance Month'] = pd.Categorical(merged_data['Issuance Month'], \n",
    "                                               categories=[f'Month {i}' for i in range(merged_data['Record Month'].abs().max() + 1)],\n",
    "                                               ordered=True)\n",
    "\n",
    "# Step 2: Create Cohorts\n",
    "# Group data by issuance month and status to create cohorts\n",
    "cohort_data = merged_data.groupby(['Issuance Month', 'Status']).size().unstack(fill_value=0).sort_index()\n",
    "\n",
    "# Step 3: Aggregate Data\n",
    "# Calculate the percentage of each status in each cohort\n",
    "cohort_data_percentage = cohort_data.div(cohort_data.sum(axis=1), axis=0) * 100\n",
    "\n",
    "# Step 4: Analyze and Visualize\n",
    "# Plot the vintage analysis for each status\n",
    "plt.figure(figsize=(12, 8))\n",
    "\n",
    "for status in cohort_data_percentage.columns:\n",
    "    plt.plot(cohort_data_percentage.index, cohort_data_percentage[status], marker='s', linestyle='-', label=f'Status {status}')\n",
    "\n",
    "plt.title('Vintage Analysis - Status Distribution Over Time')\n",
    "plt.xlabel('Issuance Month')\n",
    "plt.ylabel('Percentage')\n",
    "plt.legend(title='Status', loc=\"upper left\", bbox_to_anchor=(1, 1) )\n",
    "plt.grid(True)\n",
    "\n",
    "# Rotate x-ticks for better readability\n",
    "plt.xticks(rotation=90, ha='right')\n",
    "\n",
    "# Adjust spacing\n",
    "plt.tight_layout()\n",
    "\n",
    "\n"
   ]
  },
  {
   "cell_type": "code",
   "execution_count": null,
   "id": "7d25c958-61ac-458d-9b70-8c06c3833d2c",
   "metadata": {},
   "outputs": [],
   "source": [
    "# Preview data set\n",
    "merged_data.dtypes"
   ]
  },
  {
   "cell_type": "code",
   "execution_count": null,
   "id": "580b3e68-9461-49ef-8d5b-e9d8908bf6a9",
   "metadata": {},
   "outputs": [],
   "source": [
    " #process data by encoding \n",
    "from sklearn.preprocessing import LabelEncoder, StandardScaler\n",
    "category_columns=[\"Housing Type\", \"Marital Status\", \"Education Level\", \"Income Category\", \"Property Ownership\", \n",
    "                  \"Car Ownership\", \"Gender\", \"Status\"]\n",
    "label_encoder={}\n",
    "for column in category_columns:\n",
    "    le=LabelEncoder()\n",
    "    merged_data[column]=le.fit_transform(merged_data[column])\n",
    "    label_encoder[column]=le\n",
    "# process numeric data\n",
    "_column=[ \"Annual Income\", \"Employment Start Date\", \n",
    "          \"Record Month\", \"Birthday\"]\n",
    "SS=StandardScaler()\n",
    "merged_data[_column]=SS.fit_transform(merged_data[_column])"
   ]
  },
  {
   "cell_type": "code",
   "execution_count": null,
   "id": "dad4f86b-818f-4aef-8253-de8f24111c90",
   "metadata": {},
   "outputs": [],
   "source": [
    "# drop columns to promote cleanliness\n",
    "#column_data=[\"Status Description\", \"Record Month\"]\n",
    "merged_data=merged_data.drop(\"Status Description\", axis=1)\n",
    "merged_data=merged_data.drop(\"Issuance Month\", axis=1)\n",
    "data=merged_data\n",
    "data # preview data                                                                     \n",
    "                      "
   ]
  },
  {
   "cell_type": "code",
   "execution_count": null,
   "id": "fd352779-4f96-4f11-accb-da258960843e",
   "metadata": {},
   "outputs": [],
   "source": [
    "# feature selection\n",
    "X=data.drop('Status', axis=1)\n",
    "y=data[\"Status\"]\n",
    "# split the data\n",
    "from sklearn.model_selection import train_test_split\n",
    "X_train, X_test, y_train, y_test=train_test_split(X, y, test_size=0.2, random_state=34)\n",
    "data"
   ]
  },
  {
   "cell_type": "code",
   "execution_count": null,
   "id": "c5df1519-1b09-4da3-9d2e-38cbae087455",
   "metadata": {},
   "outputs": [],
   "source": [
    "# Train the model\n",
    "from sklearn.ensemble import GradientBoostingClassifier\n",
    "model=GradientBoostingClassifier(random_state=32, class_weight=\"balanced\", n_jobs=4)\n",
    "\n",
    "\n",
    "model.fit(X_train, y_train)\n",
    "\n"
   ]
  },
  {
   "cell_type": "code",
   "execution_count": null,
   "id": "29057eec-3ab7-42ac-ba63-d10066f9b7f8",
   "metadata": {},
   "outputs": [],
   "source": [
    "# predict on the test score\n",
    "y_pred=model.predict(X_test)"
   ]
  },
  {
   "cell_type": "code",
   "execution_count": null,
   "id": "2251fe37-c2d6-483a-943e-ae6bcd142952",
   "metadata": {},
   "outputs": [],
   "source": [
    "# using metrics to to evaluate the modek\n",
    "from sklearn.metrics import accuracy_score, classification_report, confusion_matrix\n",
    "accuracy_score(y_test, y_pred)"
   ]
  },
  {
   "cell_type": "code",
   "execution_count": null,
   "id": "3cd9bf92-90cb-4688-8e1f-c481c103f7f9",
   "metadata": {},
   "outputs": [],
   "source": [
    "print(classification_report(y_test, y_pred))"
   ]
  }
 ],
 "metadata": {
  "kernelspec": {
   "display_name": "Python 3 (ipykernel)",
   "language": "python",
   "name": "python3"
  },
  "language_info": {
   "codemirror_mode": {
    "name": "ipython",
    "version": 3
   },
   "file_extension": ".py",
   "mimetype": "text/x-python",
   "name": "python",
   "nbconvert_exporter": "python",
   "pygments_lexer": "ipython3",
   "version": "3.11.7"
  }
 },
 "nbformat": 4,
 "nbformat_minor": 5
}
